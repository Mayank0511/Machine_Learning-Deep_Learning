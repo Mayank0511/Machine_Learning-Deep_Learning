{
 "cells": [
  {
   "cell_type": "code",
   "execution_count": 1,
   "metadata": {
    "slideshow": {
     "slide_type": "slide"
    }
   },
   "outputs": [
    {
     "data": {
      "image/png": "[encoded data removed]",
      "text/plain": [
       "<Figure size 432x288 with 1 Axes>"
      ]
     },
     "metadata": {
      "needs_background": "light"
     },
     "output_type": "display_data"
    },
    {
     "name": "stdout",
     "output_type": "stream",
     "text": [
      "[[-0.2233499]\n",
      " [ 0.9134779]]\n"
     ]
    }
   ],
   "source": [
    "'''\n",
    "Illustrates a simple regression task on \n",
    "simulated data. \n",
    "\n",
    "Trying to find polynomial approximations \n",
    "to a sinusoid\n",
    "\n",
    "It gives an idea how \n",
    "non linear regression works\n",
    "\n",
    "/home/splab-ece/deepl/nonlinear.ipynb\n",
    "\n",
    "'''\n",
    "\n",
    "from __future__ import print_function\n",
    "import numpy as np\n",
    "import matplotlib.pyplot as plt\n",
    "\n",
    "\n",
    "def Error(y,pred):\n",
    "    return np.mean(np.square(y-pred))\n",
    "\n",
    "\n",
    "def SimulData():\n",
    "        # Simulate some data for training \n",
    "        x_train = np.arange(0,10, 0.25 )\n",
    "        x_train = x_train + 1.0/3.0 * np.random.randn(x_train.size);\n",
    "        y_train  = np.cos( x_train  * np.pi /7) +  0.1 * np.random.randn(x_train.size);\n",
    "\n",
    "        x_test = np.arange(0,10, 0.5 )\n",
    "        x_test = x_test + 1.0/3.0 * np.random.randn(x_test.size);\n",
    "        y_test  = np.cos( x_test  * np.pi /7)+  0.1 * np.random.randn(x_test.size)\n",
    "\n",
    "        return (x_train,y_train) , (x_test, y_test)\n",
    "\n",
    "# the data, shuffled and split between train and test sets\n",
    "(x_train, y_train), (x_test, y_test) = SimulData();\n",
    "xs = np.arange( np.min(x_train), np.max(x_train),0.01 )\n",
    "\n",
    "\n",
    "#    Line Model \n",
    "x_t1 = np.vstack((x_train,np.ones(x_train.shape))).T;\n",
    "y_t1 = np.zeros((x_train.shape[0],1))\n",
    "y_t1 = y_train\n",
    "\n",
    "a=np.zeros((2,1))\n",
    "a = (np.dot(np.linalg.inv( np.dot(x_t1.T, x_t1) ), np.dot(x_t1.T,y_t1))).reshape(a.shape[0],1)\n",
    "ys = xs * a[0] + a[1]; \n",
    "\n",
    "tst = plt.plot(x_test,y_test,'r.',label='test');\n",
    "pred = plt.plot(xs,ys,'m',label='pred');\n",
    "tr = plt.plot(x_train,y_train,'b.',label='train');\n",
    "\n",
    "#Evaluate the Test Error (Mean Square ERROR - MSE)\n",
    "\n",
    "plt.legend()\n",
    "plt.show()\n",
    "print(a)\n",
    "#print(\"Error in Linear model\",Error(y_test, np.dot(a.T,x_test)))\n",
    "\n",
    "# TRY TO FIT HIGHER ORDER MODELS \n",
    "# y = a0 + a1 x + a2 x^2  + ... + am x^m\n",
    "#  FOR MODEL ORDER m = 1,2,3,4,5\n",
    "\n",
    "\n",
    "# Plot the Test MSE vs model order "
   ]
  },
  {
   "cell_type": "code",
   "execution_count": 2,
   "metadata": {},
   "outputs": [
    {
     "name": "stdout",
     "output_type": "stream",
     "text": [
      "Mean Square Error on train data for Linear Model is: 0.13429554069291177\n",
      "Mean Square Error on test data for Linear Model is:  0.13664244916675294\n"
     ]
    }
   ],
   "source": [
    "#Evaluate the Test Error (Mean Square ERROR - MSE)\n",
    "MSE =[]\n",
    "x_test1 = np.vstack((x_test,np.ones(x_test.shape))).T\n",
    "print(\"Mean Square Error on train data for Linear Model is:\",Error(y_t1.reshape(y_t1.shape[0],1),np.dot(x_t1,a)))\n",
    "print(\"Mean Square Error on test data for Linear Model is: \",Error(y_test.reshape(y_test.shape[0],1),np.dot(x_test1,a)))\n",
    "MSE.append(Error(y_test.reshape(y_test.shape[0],1),np.dot(x_test1,a)))"
   ]
  },
  {
   "cell_type": "markdown",
   "metadata": {
    "slideshow": {
     "slide_type": "notes"
    }
   },
   "source": [
    "**model with polynomial of degree 2.**"
   ]
  },
  {
   "cell_type": "code",
   "execution_count": 5,
   "metadata": {},
   "outputs": [
    {
     "data": {
      "image/png": "[encoded data removed]",
      "text/plain": [
       "<Figure size 432x288 with 1 Axes>"
      ]
     },
     "metadata": {
      "needs_background": "light"
     },
     "output_type": "display_data"
    },
    {
     "name": "stdout",
     "output_type": "stream",
     "text": [
      "[[ 1.49362455]\n",
      " [-0.59443379]\n",
      " [ 0.03807   ]]\n"
     ]
    }
   ],
   "source": [
    "# y = a0 + a1 x + a2 x^2\n",
    "degree = 2\n",
    "X_t2 = np.ones((x_train.shape[0], 2))\n",
    "X_t2[:, 0] = x_train\n",
    "X_t2[:, 1] = x_train**2\n",
    "\n",
    "Y_t2 = y_train.reshape((x_train.shape[0], 1))\n",
    "\n",
    "X_test2 = np.ones((x_test.shape[0], 2))\n",
    "X_test2[:, 0] = x_test\n",
    "X_test2[:, 1] = x_test**2\n",
    "\n",
    "Y_test2 = y_test.reshape((x_test.shape[0], 1))\n",
    "X_t2 =  np.hstack((np.ones((X_t2.shape[0],1)), X_t2))\n",
    "X_test2 =  np.hstack((np.ones((X_test2.shape[0],1)), X_test2))\n",
    "\n",
    "a_dash = np.zeros((3,1))\n",
    "a_dash = np.dot(np.linalg.inv(np.dot(X_t2.T, X_t2)), np.dot(X_t2.T,Y_t2))\n",
    "\n",
    "XS = np.ones((xs.shape[0], 2))\n",
    "XS[:, 0] = xs\n",
    "XS[:, 1] = xs**2\n",
    "XS =  np.hstack((np.ones((XS.shape[0],1)), XS))\n",
    "\n",
    "y_pred2 = np.dot(XS, a_dash)\n",
    "\n",
    "\n",
    "tst = plt.plot(x_test,y_test,'r.',label='test');\n",
    "pred = plt.plot(xs,y_pred2,'m',label='pred');\n",
    "tr = plt.plot(x_train,y_train,'b.',label='train');\n",
    "\n",
    "#Evaluate the Test Error (Mean Square ERROR - MSE)\n",
    "\n",
    "plt.legend()\n",
    "plt.show()\n",
    "print(a_dash)\n"
   ]
  },
  {
   "cell_type": "code",
   "execution_count": 9,
   "metadata": {},
   "outputs": [
    {
     "name": "stdout",
     "output_type": "stream",
     "text": [
      "Mean Square Error on train data for Linear Model is: 0.04828838984944362\n",
      "Mean Square Error for Degree 2 Model is:  0.03383046821862386\n"
     ]
    }
   ],
   "source": [
    "#Evaluate the Test Error (Mean Square ERROR - MSE)\n",
    "print(\"Mean Square Error on train data for Linear Model is:\",Error(Y_t2.reshape(Y_t2.shape[0],1),np.dot(X_t2,a_dash)))\n",
    "print(\"Mean Square Error for Degree 2 Model is: \",Error(y_test.reshape(y_test.shape[0],1),np.dot(X_test2,a_dash)))\n",
    "MSE.append(Error(y_test.reshape(y_test.shape[0],1),np.dot(X_test2,a_dash)))"
   ]
  },
  {
   "cell_type": "markdown",
   "metadata": {},
   "source": [
    "**model with polynomial of degree 3.**"
   ]
  },
  {
   "cell_type": "code",
   "execution_count": 10,
   "metadata": {},
   "outputs": [
    {
     "data": {
      "image/png": "[encoded data removed]",
      "text/plain": [
       "<Figure size 432x288 with 1 Axes>"
      ]
     },
     "metadata": {
      "needs_background": "light"
     },
     "output_type": "display_data"
    },
    {
     "name": "stdout",
     "output_type": "stream",
     "text": [
      "[[ 1.1797112 ]\n",
      " [-0.13839606]\n",
      " [-0.08508432]\n",
      " [ 0.00858137]]\n"
     ]
    }
   ],
   "source": [
    "# y = a0 + a1 x + a2 x^2 + a3 x^3\n",
    "# degree = 3\n",
    "X_t3 = np.ones((x_train.shape[0], 3))\n",
    "X_t3[:, 0] = x_train\n",
    "X_t3[:, 1] = x_train**2\n",
    "X_t3[:, 2] = x_train**3\n",
    "\n",
    "Y_t3 = y_train.reshape((x_train.shape[0], 1))\n",
    "\n",
    "X_test3 = np.ones((x_test.shape[0], 3))\n",
    "X_test3[:, 0] = x_test\n",
    "X_test3[:, 1] = x_test**2\n",
    "X_test3[:, 2] = x_test**3\n",
    "\n",
    "\n",
    "Y_test3 = y_test.reshape((x_test.shape[0], 1))\n",
    "X_t3 =  np.hstack((np.ones((X_t3.shape[0],1)), X_t3))\n",
    "X_test3 =  np.hstack((np.ones((X_test3.shape[0],1)), X_test3))\n",
    "\n",
    "a_3 = np.zeros((4,1))\n",
    "a_3 = np.dot(np.linalg.inv(np.dot(X_t3.T, X_t3)), np.dot(X_t3.T,Y_t3))\n",
    "\n",
    "XS3 = np.ones((xs.shape[0], 3))\n",
    "XS3[:, 0] = xs\n",
    "XS3[:, 1] = xs**2\n",
    "XS3[:, 2] = xs**3\n",
    "XS3 =  np.hstack((np.ones((XS3.shape[0],1)), XS3))\n",
    "\n",
    "y_pred3 = np.dot(XS3, a_3)\n",
    "\n",
    "\n",
    "#tst = plt.plot(x_test,y_test,'r.',label='test');\n",
    "pred = plt.plot(xs,y_pred3,'m',label='pred');\n",
    "tr = plt.plot(x_train,y_train,'b.',label='train');\n",
    "ts = plt.plot(x_test,y_test, 'r.', label='pred')\n",
    "\n",
    "#Evaluate the Test Error (Mean Square ERROR - MSE)\n",
    "\n",
    "plt.legend()\n",
    "plt.show()\n",
    "print(a_3)"
   ]
  },
  {
   "cell_type": "code",
   "execution_count": 11,
   "metadata": {},
   "outputs": [
    {
     "name": "stdout",
     "output_type": "stream",
     "text": [
      "Mean Square Error on train data for Linear Model is: 0.012690926716346904\n",
      "Mean Square Error for Degree 3 Model is:  0.011331263815778642\n"
     ]
    }
   ],
   "source": [
    "#Evaluate the Test Error (Mean Square ERROR - MSE)\n",
    "print(\"Mean Square Error on train data for Linear Model is:\",Error(Y_t3.reshape(Y_t3.shape[0],1),np.dot(X_t3,a_3)))\n",
    "print(\"Mean Square Error for Degree 3 Model is: \",Error(y_test.reshape(y_test.shape[0],1),np.dot(X_test3,a_3)))\n",
    "MSE.append(Error(y_test.reshape(y_test.shape[0],1),np.dot(X_test3,a_3)))"
   ]
  },
  {
   "cell_type": "markdown",
   "metadata": {
    "slideshow": {
     "slide_type": "-"
    }
   },
   "source": [
    "**model with polynomial of degree 4.**"
   ]
  },
  {
   "cell_type": "code",
   "execution_count": 13,
   "metadata": {},
   "outputs": [
    {
     "data": {
      "image/png": "[encoded data removed]",
      "text/plain": [
       "<Figure size 432x288 with 1 Axes>"
      ]
     },
     "metadata": {
      "needs_background": "light"
     },
     "output_type": "display_data"
    },
    {
     "name": "stdout",
     "output_type": "stream",
     "text": [
      "[[ 1.15562465e+00]\n",
      " [-3.60784864e-02]\n",
      " [-1.40406763e-01]\n",
      " [ 1.79274144e-02]\n",
      " [-4.89585800e-04]]\n"
     ]
    }
   ],
   "source": [
    "# y = a0 + a1 x + a2 x^2 + a3 x^3 + a4 x^4\n",
    "# degree = 4\n",
    "X_t4 = np.ones((x_train.shape[0], 4))\n",
    "X_t4[:, 0] = x_train\n",
    "X_t4[:, 1] = x_train**2\n",
    "X_t4[:, 2] = x_train**3\n",
    "X_t4[:, 3] = x_train**4\n",
    "\n",
    "Y_t4 = y_train.reshape((x_train.shape[0], 1))\n",
    "\n",
    "X_test4 = np.ones((x_test.shape[0], 4))\n",
    "X_test4[:, 0] = x_test\n",
    "X_test4[:, 1] = x_test**2\n",
    "X_test4[:, 2] = x_test**3\n",
    "X_test4[:, 3] = x_test**4\n",
    "\n",
    "\n",
    "Y_test4 = y_test.reshape((x_test.shape[0], 1))\n",
    "X_t4 =  np.hstack((np.ones((X_t4.shape[0],1)), X_t4))\n",
    "X_test4 =  np.hstack((np.ones((X_test4.shape[0],1)), X_test4))\n",
    "\n",
    "a_4 = np.zeros((5,1))\n",
    "a_4 = np.dot(np.linalg.inv(np.dot(X_t4.T, X_t4)), np.dot(X_t4.T,Y_t4))\n",
    "\n",
    "XS4 = np.ones((xs.shape[0], 4))\n",
    "XS4[:, 0] = xs\n",
    "XS4[:, 1] = xs**2\n",
    "XS4[:, 2] = xs**3\n",
    "XS4[:, 3] = xs**4\n",
    "XS4 =  np.hstack((np.ones((XS4.shape[0],1)), XS4))\n",
    "\n",
    "y_pred4 = np.dot(XS4, a_4)\n",
    "\n",
    "\n",
    "tst = plt.plot(x_test,y_test,'r.',label='test');\n",
    "pred = plt.plot(xs,y_pred4,'m',label='pred');\n",
    "tr = plt.plot(x_train,y_train,'b.',label='train');\n",
    "\n",
    "#Evaluate the Test Error (Mean Square ERROR - MSE)\n",
    "\n",
    "plt.legend()\n",
    "plt.show()\n",
    "print(a_4)"
   ]
  },
  {
   "cell_type": "code",
   "execution_count": 15,
   "metadata": {},
   "outputs": [
    {
     "name": "stdout",
     "output_type": "stream",
     "text": [
      "Mean Square Error on train data for Linear Model is: 0.011831978734059471\n",
      "Mean Square Error for Degree 4 Model is:  0.010459919703852256\n"
     ]
    }
   ],
   "source": [
    "#Evaluate the Test Error (Mean Square ERROR - MSE)\n",
    "print(\"Mean Square Error on train data for Linear Model is:\",Error(Y_t4,np.dot(X_t4,a_4)))\n",
    "print(\"Mean Square Error for Degree 4 Model is: \",Error(y_test.reshape(y_test.shape[0],1),np.dot(X_test4,a_4)))\n",
    "MSE.append(Error(y_test.reshape(y_test.shape[0],1),np.dot(X_test4,a_4)))"
   ]
  },
  {
   "cell_type": "markdown",
   "metadata": {},
   "source": [
    "**model with polynomial of degree 5.**"
   ]
  },
  {
   "cell_type": "code",
   "execution_count": 17,
   "metadata": {},
   "outputs": [
    {
     "data": {
      "image/png": "[encoded data removed]",
      "text/plain": [
       "<Figure size 432x288 with 1 Axes>"
      ]
     },
     "metadata": {
      "needs_background": "light"
     },
     "output_type": "display_data"
    },
    {
     "name": "stdout",
     "output_type": "stream",
     "text": [
      "[[ 1.14523064e+00]\n",
      " [-2.36184558e-01]\n",
      " [ 5.52442673e-02]\n",
      " [-4.18310008e-02]\n",
      " [ 6.74373517e-03]\n",
      " [-3.02604529e-04]]\n"
     ]
    }
   ],
   "source": [
    "# y = a0 + a1 x + a2 x^2 + a3 x^3 + a4 x^4 + a^5\n",
    "# degree = 5\n",
    "X_t5 = np.ones((x_train.shape[0], 5))\n",
    "X_t5[:, 0] = x_train\n",
    "X_t5[:, 1] = x_train**2\n",
    "X_t5[:, 2] = x_train**3\n",
    "X_t5[:, 3] = x_train**4\n",
    "X_t5[:, 4] = x_train**5\n",
    "\n",
    "Y_t5 = y_train.reshape((x_train.shape[0], 1))\n",
    "\n",
    "X_test5 = np.ones((x_test.shape[0], 5))\n",
    "X_test5[:, 0] = x_test\n",
    "X_test5[:, 1] = x_test**2\n",
    "X_test5[:, 2] = x_test**3\n",
    "X_test5[:, 3] = x_test**4\n",
    "X_test5[:, 4] = x_test**5\n",
    "\n",
    "Y_test5 = y_test.reshape((x_test.shape[0], 1))\n",
    "X_t5 =  np.hstack((np.ones((X_t5.shape[0],1)), X_t5))\n",
    "X_test5 =  np.hstack((np.ones((X_test5.shape[0],1)), X_test5))\n",
    "\n",
    "a_5 = np.zeros((6,1))\n",
    "a_5 = np.dot(np.linalg.inv(np.dot(X_t5.T, X_t5)), np.dot(X_t5.T,Y_t5))\n",
    "\n",
    "XS5 = np.ones((xs.shape[0], 5))\n",
    "XS5[:, 0] = xs\n",
    "XS5[:, 1] = xs**2\n",
    "XS5[:, 2] = xs**3\n",
    "XS5[:, 3] = xs**4\n",
    "XS5[:, 4] = xs**5\n",
    "XS5 =  np.hstack((np.ones((XS5.shape[0],1)), XS5))\n",
    "\n",
    "y_pred5 = np.dot(XS5, a_5)\n",
    "\n",
    "\n",
    "tst = plt.plot(x_test,y_test,'r.',label='test');\n",
    "pred = plt.plot(xs,y_pred5,'m',label='pred');\n",
    "tr = plt.plot(x_train,y_train,'b.',label='train');\n",
    "\n",
    "#Evaluate the Test Error (Mean Square ERROR - MSE)\n",
    "\n",
    "plt.legend()\n",
    "plt.show()\n",
    "print(a_5)"
   ]
  },
  {
   "cell_type": "code",
   "execution_count": 18,
   "metadata": {},
   "outputs": [
    {
     "name": "stdout",
     "output_type": "stream",
     "text": [
      "Mean Square Error on train data for Linear Model is: 0.00946604418329692\n",
      "Mean Square Error for Degree 5 Model is:  0.009155139211990241\n"
     ]
    }
   ],
   "source": [
    "#Evaluate the Test Error (Mean Square ERROR - MSE)\n",
    "print(\"Mean Square Error on train data for Linear Model is:\",Error(Y_t5,np.dot(X_t5,a_5)))\n",
    "print(\"Mean Square Error for Degree 5 Model is: \",Error(y_test.reshape(y_test.shape[0],1),np.dot(X_test5,a_5)))\n",
    "MSE.append(Error(y_test.reshape(y_test.shape[0],1),np.dot(X_test5,a_5)))"
   ]
  },
  {
   "cell_type": "markdown",
   "metadata": {},
   "source": [
    "**Plot of MSE vs Degree of Hypothesis**"
   ]
  },
  {
   "cell_type": "code",
   "execution_count": 20,
   "metadata": {},
   "outputs": [
    {
     "data": {
      "image/png": "[encoded data removed]",
      "text/plain": [
       "<Figure size 432x288 with 1 Axes>"
      ]
     },
     "metadata": {
      "needs_background": "light"
     },
     "output_type": "display_data"
    }
   ],
   "source": [
    "Degrees=[1,2,3,4,5]\n",
    "plt.plot(Degrees, MSE,label='MSE vs Degree')\n",
    "plt.show()"
   ]
  },
  {
   "cell_type": "code",
   "execution_count": null,
   "metadata": {},
   "outputs": [],
   "source": []
  }
 ],
 "metadata": {
  "celltoolbar": "Slideshow",
  "kernelspec": {
   "display_name": "Python 3",
   "language": "python",
   "name": "python3"
  },
  "language_info": {
   "codemirror_mode": {
    "name": "ipython",
    "version": 3
   },
   "file_extension": ".py",
   "mimetype": "text/x-python",
   "name": "python",
   "nbconvert_exporter": "python",
   "pygments_lexer": "ipython3",
   "version": "3.8.3"
  }
 },
 "nbformat": 4,
 "nbformat_minor": 5
}
