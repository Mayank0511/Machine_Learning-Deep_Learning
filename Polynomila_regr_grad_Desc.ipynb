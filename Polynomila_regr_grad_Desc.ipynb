{
 "cells": [
  {
   "cell_type": "code",
   "execution_count": 1,
   "metadata": {
    "colab": {
     "base_uri": "https://localhost:8080/",
     "height": 299
    },
    "id": "quarterly-classification",
    "outputId": "f2379dbb-c2b1-4cd3-fd8a-ea29728a72db"
   },
   "outputs": [
    {
     "name": "stdout",
     "output_type": "stream",
     "text": [
      "(40,) (40,) (20,) (20,)\n"
     ]
    },
    {
     "data": {
      "image/png": "[encoded data removed]",
      "text/plain": [
       "<Figure size 432x288 with 1 Axes>"
      ]
     },
     "metadata": {
      "needs_background": "light"
     },
     "output_type": "display_data"
    },
    {
     "name": "stdout",
     "output_type": "stream",
     "text": [
      "[-0.19411965  0.75803483]\n"
     ]
    }
   ],
   "source": [
    "'''\n",
    "Illustrates a simple regression task on \n",
    "simulated data. \n",
    "\n",
    "Trying to find polynomial approximations \n",
    "to a sinusoid\n",
    "\n",
    "It gives an idea how \n",
    "non linear regression works\n",
    "\n",
    "/home/splab-ece/deepl/nonlinear.ipynb\n",
    "\n",
    "'''\n",
    "\n",
    "#from __future__ import print_function\n",
    "import numpy as np\n",
    "import matplotlib.pyplot as plt\n",
    "\n",
    "\n",
    "def SimulData():\n",
    "        # Simulate some data for training \n",
    "        x_train = np.arange(0,10, 0.25 )\n",
    "        x_train = x_train + 1.0/3.0 * np.random.randn(x_train.size);\n",
    "        y_train  = np.cos( x_train  * np.pi /7) +  0.1 * np.random.randn(x_train.size);\n",
    "\n",
    "        x_test = np.arange(0,10, 0.5 )\n",
    "        x_test = x_test + 1.0/3.0 * np.random.randn(x_test.size);\n",
    "        y_test  = np.cos( x_test  * np.pi /7)+  0.1 * np.random.randn(x_test.size)\n",
    "\n",
    "        return (x_train,y_train) , (x_test, y_test)\n",
    "\n",
    "# the data, shuffled and split between train and test sets\n",
    "(x_train, y_train), (x_test, y_test) = SimulData();\n",
    "print(x_train.shape, y_train.shape, x_test.shape, y_test.shape)\n",
    "xs = np.arange( np.min(x_train), np.max(x_train),0.01 )\n",
    "\n",
    "\n",
    "#    Line Model \n",
    "x_t1 = np.vstack((x_train,np.ones(x_train.shape))).T;\n",
    "y_t1 = np.zeros((x_train.shape[0],1))\n",
    "y_t1 = y_train\n",
    "\n",
    "a = np.dot(np.linalg.inv( np.dot(x_t1.T, x_t1) ), np.dot(x_t1.T,y_t1))\n",
    "ys = xs * a[0] + a[1]; \n",
    "\n",
    "tst = plt.plot(x_test,y_test,'r.',label='test');\n",
    "pred = plt.plot(xs,ys,'m',label='pred');\n",
    "tr = plt.plot(x_train,y_train,'b.',label='train');\n",
    "\n",
    "#Evaluate the Test Error (Mean Square ERROR - MSE)\n",
    "\n",
    "plt.legend()\n",
    "plt.show()\n",
    "print(a)\n",
    "\n",
    "\n",
    "# TRY TO FIT HIGHER ORDER MODELS \n",
    "# y = a0 + a1 x + a2 x^2  + ... + am x^m\n",
    "#  FOR MODEL ORDER m = 1,2,3,4,5\n",
    "\n",
    "\n",
    "# Plot the Test MSE vs model order "
   ]
  },
  {
   "cell_type": "code",
   "execution_count": 2,
   "metadata": {
    "id": "ZAQ9GjzwDPhp"
   },
   "outputs": [],
   "source": [
    "def Cost(X, y, A):\n",
    "    m=X.shape[0]\n",
    "    predictions=np.dot(X , A)\n",
    "    sqrErrors = np.square(predictions-y)\n",
    "    J =1/(2*m) * np.sum(sqrErrors)\n",
    "    return J\n",
    "\n",
    "\n",
    "def Gradient_Descent(X,y,iterations=1000,learning_rate=0.1):\n",
    "\n",
    "    A = np.zeros((X.shape[1],1))\n",
    "    J_vals = [] #np.zeros((iterations, 1))\n",
    "    m=X.shape[0]\n",
    "    for i in range(0,iterations):\n",
    "        error = np.dot(X , A) - y\n",
    "        #print(X.T.shape, error.shape)\n",
    "        delta = (1/m * np.dot(X.T , error))\n",
    "        #print(delta.shape)\n",
    "        A = A - learning_rate * delta\n",
    "        #print(A.shape)\n",
    "        J_vals.append(Cost(X, y, A))\n",
    "        #print(X.shape,error.shape)\n",
    "        \n",
    "    return A, J_vals  "
   ]
  },
  {
   "cell_type": "markdown",
   "metadata": {
    "id": "kjzNjinaBvs3"
   },
   "source": [
    "**For M = 2**"
   ]
  },
  {
   "cell_type": "code",
   "execution_count": 3,
   "metadata": {
    "id": "ekw5GXgaBG43"
   },
   "outputs": [],
   "source": [
    "# y = a0 + a1 x + a2 x^2\n",
    "X_train = np.ones((x_train.shape[0], 2))\n",
    "X_train[:, 0] = x_train\n",
    "X_train[:, 1] = x_train**2\n",
    "\n",
    "Y_train = y_train.reshape((x_train.shape[0], 1))\n",
    "\n",
    "X_test = np.ones((x_test.shape[0], 2))\n",
    "X_test[:, 0] = x_test\n",
    "X_test[:, 1] = x_test**2\n",
    "\n",
    "Y_test = y_test.reshape((x_test.shape[0], 1))\n",
    "\n",
    "mu = np.mean(X_train, axis = 0)\n",
    "std = np.std(X_train, axis = 0)\n",
    "\n",
    "XT_norm = (X_train - mu) / std\n",
    "X_test = (X_test - mu) / std\n",
    "\n",
    "XT_norm =  np.hstack((np.ones((XT_norm.shape[0],1)), XT_norm))\n",
    "X_test =  np.hstack((np.ones((X_test.shape[0],1)), X_test))"
   ]
  },
  {
   "cell_type": "code",
   "execution_count": 4,
   "metadata": {
    "colab": {
     "base_uri": "https://localhost:8080/",
     "height": 265
    },
    "id": "m8TbcpTgBs2A",
    "outputId": "6443c94e-d9d0-40fa-9a56-4b7f7501ca63"
   },
   "outputs": [
    {
     "data": {
      "image/png": "[encoded data removed]",
      "text/plain": [
       "<Figure size 432x288 with 1 Axes>"
      ]
     },
     "metadata": {
      "needs_background": "light"
     },
     "output_type": "display_data"
    }
   ],
   "source": [
    "weigths, J = Gradient_Descent(XT_norm, Y_train)\n",
    "plt.plot(J)\n",
    "plt.show()"
   ]
  },
  {
   "cell_type": "code",
   "execution_count": 5,
   "metadata": {
    "id": "bZY1LoNZESFp"
   },
   "outputs": [],
   "source": [
    "XS = np.ones((xs.shape[0], 2))\n",
    "XS[:, 0] = xs\n",
    "XS[:, 1] = xs**2\n",
    "\n",
    "XS = (XS - mu) / std\n",
    "XS =  np.hstack((np.ones((XS.shape[0],1)), XS))\n",
    "\n",
    "y_pred2 = np.dot(XS, weigths)"
   ]
  },
  {
   "cell_type": "code",
   "execution_count": 6,
   "metadata": {
    "id": "hwRXON6KFhkm"
   },
   "outputs": [],
   "source": [
    "#y_pred2 = weigths[0] + ((xs - mu)/std) * weigths[1] + ((xs - mu)/std) ** 2 * weigths[2]"
   ]
  },
  {
   "cell_type": "code",
   "execution_count": 6,
   "metadata": {
    "colab": {
     "base_uri": "https://localhost:8080/",
     "height": 265
    },
    "id": "kgn-eRXWCLcK",
    "outputId": "e5803eb9-e47c-44f8-f2a7-21de116b3f16"
   },
   "outputs": [
    {
     "data": {
      "image/png": "[encoded data removed]",
      "text/plain": [
       "<Figure size 432x288 with 1 Axes>"
      ]
     },
     "metadata": {
      "needs_background": "light"
     },
     "output_type": "display_data"
    },
    {
     "name": "stdout",
     "output_type": "stream",
     "text": [
      "[-0.19411965  0.75803483]\n"
     ]
    }
   ],
   "source": [
    "tst = plt.plot(x_test,y_test,'r.',label='test');\n",
    "pred = plt.plot(xs,y_pred2,'m',label='pred');\n",
    "tr = plt.plot(x_train,y_train,'b.',label='train');\n",
    "\n",
    "#Evaluate the Test Error (Mean Square ERROR - MSE)\n",
    "\n",
    "plt.legend()\n",
    "plt.show()\n",
    "print(a)"
   ]
  },
  {
   "cell_type": "markdown",
   "metadata": {
    "id": "1yhMHp9sG5uS"
   },
   "source": [
    "**For M = 4**"
   ]
  },
  {
   "cell_type": "code",
   "execution_count": 8,
   "metadata": {
    "id": "DBJlIl1eEGIy"
   },
   "outputs": [],
   "source": [
    "# y = a0 + a1 x + a2 x^2 + x3 + x4\n",
    "(x_train, y_train), (x_test, y_test) = SimulData();\n",
    "X_train = np.ones((x_train.shape[0], 4))\n",
    "X_train[:, 0] = x_train\n",
    "X_train[:, 1] = x_train**2\n",
    "X_train[:, 2] = x_train**3\n",
    "X_train[:, 3] = x_train**4\n",
    "\n",
    "Y_train = y_train.reshape((x_train.shape[0], 1))\n",
    "\n",
    "X_test = np.ones((x_test.shape[0], 4))\n",
    "X_test[:, 0] = x_test\n",
    "X_test[:, 1] = x_test**2\n",
    "X_test[:, 2] = x_test**3\n",
    "X_test[:, 3] = x_test**4\n",
    "\n",
    "Y_test = y_test.reshape((x_test.shape[0], 1))\n",
    "\n",
    "mu = np.mean(X_train, axis = 0)\n",
    "std = np.std(X_train, axis = 0)\n",
    "\n",
    "XT_norm = (X_train - mu) / std\n",
    "X_test = (X_test - mu) / std\n",
    "\n",
    "XT_norm =  np.hstack((np.ones((XT_norm.shape[0],1)), XT_norm))\n",
    "X_test =  np.hstack((np.ones((X_test.shape[0],1)), X_test))"
   ]
  },
  {
   "cell_type": "code",
   "execution_count": 9,
   "metadata": {
    "colab": {
     "base_uri": "https://localhost:8080/",
     "height": 350
    },
    "id": "IdN2vL2GHCI5",
    "outputId": "d224c0b5-49a5-45e9-c959-82c21664a3d5"
   },
   "outputs": [
    {
     "name": "stdout",
     "output_type": "stream",
     "text": [
      "[[-0.23680399]\n",
      " [-0.99339903]\n",
      " [-0.39281474]\n",
      " [ 0.26156985]\n",
      " [ 0.67599542]]\n"
     ]
    },
    {
     "data": {
      "image/png": "[encoded data removed]",
      "text/plain": [
       "<Figure size 432x288 with 1 Axes>"
      ]
     },
     "metadata": {
      "needs_background": "light"
     },
     "output_type": "display_data"
    }
   ],
   "source": [
    "weigths, J = Gradient_Descent(XT_norm, Y_train)\n",
    "print(weigths)\n",
    "plt.plot(J)\n",
    "plt.show()"
   ]
  },
  {
   "cell_type": "code",
   "execution_count": 10,
   "metadata": {
    "id": "blPfeFPVHEXF"
   },
   "outputs": [],
   "source": [
    "XS = np.ones((xs.shape[0], 4))\n",
    "XS[:, 0] = xs\n",
    "XS[:, 1] = xs**2\n",
    "XS[:, 2] = xs**3\n",
    "XS[:, 3] = xs**4\n",
    "\n",
    "XS = (XS - mu) / std\n",
    "XS =  np.hstack((np.ones((XS.shape[0],1)), XS))\n",
    "\n",
    "y_pred2 = np.dot(XS, weigths)"
   ]
  },
  {
   "cell_type": "code",
   "execution_count": 11,
   "metadata": {
    "colab": {
     "base_uri": "https://localhost:8080/",
     "height": 265
    },
    "id": "KVzH3AtnHGpd",
    "outputId": "322540d3-2e6b-4b60-cde1-cb5f38205d87"
   },
   "outputs": [
    {
     "data": {
      "image/png": "[encoded data removed]",
      "text/plain": [
       "<Figure size 432x288 with 1 Axes>"
      ]
     },
     "metadata": {
      "needs_background": "light"
     },
     "output_type": "display_data"
    }
   ],
   "source": [
    "tst = plt.plot(x_test,y_test,'r.',label='test');\n",
    "pred = plt.plot(xs,y_pred2,'m',label='pred');\n",
    "tr = plt.plot(x_train,y_train,'b.',label='train');\n",
    "\n",
    "#Evaluate the Test Error (Mean Square ERROR - MSE)\n",
    "\n",
    "plt.legend()\n",
    "plt.show()\n",
    "#print(a)"
   ]
  },
  {
   "cell_type": "code",
   "execution_count": null,
   "metadata": {
    "id": "JMKqtJ9pHwvi"
   },
   "outputs": [],
   "source": []
  }
 ],
 "metadata": {
  "celltoolbar": "Slideshow",
  "colab": {
   "collapsed_sections": [],
   "name": "nonlinear_DLA2.ipynb",
   "provenance": []
  },
  "kernelspec": {
   "display_name": "Python 3",
   "language": "python",
   "name": "python3"
  },
  "language_info": {
   "codemirror_mode": {
    "name": "ipython",
    "version": 3
   },
   "file_extension": ".py",
   "mimetype": "text/x-python",
   "name": "python",
   "nbconvert_exporter": "python",
   "pygments_lexer": "ipython3",
   "version": "3.8.3"
  }
 },
 "nbformat": 4,
 "nbformat_minor": 5
}
