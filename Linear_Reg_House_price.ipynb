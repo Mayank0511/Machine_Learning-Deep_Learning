{
 "cells": [
  {
   "cell_type": "markdown",
   "metadata": {},
   "source": [
    "## Linear Regresssion\n",
    "### Boston House Price Dataset\n",
    "\n",
    "OBJECTIVE: \n",
    "Learn a linear regression model the Boston House price Dataset using both Gradient descent and closed form solution."
   ]
  },
  {
   "cell_type": "code",
   "execution_count": 2,
   "metadata": {},
   "outputs": [],
   "source": [
    "from keras.datasets import boston_housing\n",
    "\n",
    "(train_data, train_targets), (test_data,test_targets) = boston_housing.load_data()"
   ]
  },
  {
   "cell_type": "markdown",
   "metadata": {},
   "source": [
    "**Data Exploration**"
   ]
  },
  {
   "cell_type": "code",
   "execution_count": 3,
   "metadata": {},
   "outputs": [
    {
     "name": "stdout",
     "output_type": "stream",
     "text": [
      "(404, 13) (102, 13)\n"
     ]
    }
   ],
   "source": [
    "print(train_data.shape,test_data.shape)"
   ]
  },
  {
   "cell_type": "code",
   "execution_count": 4,
   "metadata": {},
   "outputs": [
    {
     "name": "stdout",
     "output_type": "stream",
     "text": [
      "(404, 1) (102, 1)\n"
     ]
    }
   ],
   "source": [
    "train_targets=train_targets.reshape(train_targets.shape[0],1)\n",
    "test_targets=test_targets.reshape(test_targets.shape[0],1)\n",
    "print(train_targets.shape,test_targets.shape)"
   ]
  },
  {
   "cell_type": "code",
   "execution_count": 17,
   "metadata": {},
   "outputs": [
    {
     "name": "stdout",
     "output_type": "stream",
     "text": [
      "[  1.23247   0.        8.14      0.        0.538     6.142    91.7\n",
      "   3.9769    4.      307.       21.      396.9      18.72   ] [15.2]\n"
     ]
    }
   ],
   "source": [
    "''' \n",
    "The dataset contains the following details\n",
    "\n",
    "# Features are \n",
    "CRIM: Per capita crime rate by town\n",
    "ZN: Proportion of residential land zoned for lots over 25,000 sq. ft\n",
    "INDUS: Proportion of non-retail business acres per town\n",
    "CHAS: Charles River dummy variable (= 1 if tract bounds river; 0 otherwise)\n",
    "NOX: Nitric oxide concentration (parts per 10 million)\n",
    "RM: Average number of rooms per dwelling\n",
    "AGE: Proportion of owner-occupied units built prior to 1940\n",
    "DIS: Weighted distances to five Boston employment centers\n",
    "RAD: Index of accessibility to radial highways\n",
    "TAX: Full-value property tax rate per $10,000\n",
    "PTRATIO: Pupil-teacher ratio by town\n",
    "B: 1000(Bk — 0.63)², where Bk is the proportion of [people of African American descent] by town\n",
    "LSTAT: Percentage of lower status of the population\n",
    "\n",
    "#Target Value\n",
    "MEDV: Median value of owner-occupied homes in $1000s\n",
    "'''\n",
    "\n",
    "print(train_data[0,:], train_targets[0])"
   ]
  },
  {
   "cell_type": "code",
   "execution_count": 18,
   "metadata": {},
   "outputs": [
    {
     "data": {
      "image/png": "[encoded data removed]",
      "text/plain": [
       "<Figure size 432x288 with 1 Axes>"
      ]
     },
     "metadata": {
      "needs_background": "light"
     },
     "output_type": "display_data"
    }
   ],
   "source": [
    "#Visualize stuff\n",
    "\n",
    "import matplotlib.pyplot as plt\n",
    "\n",
    "(n,bins,patch)=plt.hist(train_targets,bins=20)"
   ]
  },
  {
   "cell_type": "code",
   "execution_count": 6,
   "metadata": {},
   "outputs": [
    {
     "name": "stdout",
     "output_type": "stream",
     "text": [
      "(404, 1)\n",
      "(404, 14)\n",
      "(14, 1)\n"
     ]
    }
   ],
   "source": [
    "import numpy as np\n",
    "\n",
    "'''Linear Regression using closed form solution y = AH , where A is the weight matrix\n",
    " H are features ad Y are labels and the solution is price(y) = a0 + a1* feature[1]......'''\n",
    "\n",
    "y = np.asarray(train_targets).reshape(train_targets.shape[0],1)\n",
    "H = np.hstack((np.ones((train_data.shape[0],1)),train_data))\n",
    "a = np.zeros((train_data.shape[1]+1,1))\n",
    "print(y.shape)\n",
    "print(H.shape)\n",
    "print(a.shape)"
   ]
  },
  {
   "cell_type": "markdown",
   "metadata": {},
   "source": [
    "**Closed Form Solution**"
   ]
  },
  {
   "cell_type": "code",
   "execution_count": 7,
   "metadata": {},
   "outputs": [],
   "source": [
    "# Solving Linear regression \n",
    "# close form solution of y = AH is , A = ((H^T.H)^-1 . H^T).y\n",
    "a=(np.linalg.inv(H.T@H) @ H.T)@y"
   ]
  },
  {
   "cell_type": "code",
   "execution_count": 18,
   "metadata": {},
   "outputs": [],
   "source": [
    "test = np.hstack((np.ones((test_data.shape[0],1)),test_data))\n",
    "pred = test @ a"
   ]
  },
  {
   "cell_type": "code",
   "execution_count": 19,
   "metadata": {},
   "outputs": [
    {
     "name": "stdout",
     "output_type": "stream",
     "text": [
      "(102, 1) (102, 1)\n"
     ]
    }
   ],
   "source": [
    "print(pred.shape, test_targets.shape)"
   ]
  },
  {
   "cell_type": "code",
   "execution_count": 20,
   "metadata": {},
   "outputs": [
    {
     "name": "stdout",
     "output_type": "stream",
     "text": [
      "Mean squared error on test data 23.195599256424117\n"
     ]
    }
   ],
   "source": [
    "print(\"Mean squared error on test data\" , np.mean((pred-test_targets)**2))"
   ]
  },
  {
   "cell_type": "code",
   "execution_count": 21,
   "metadata": {},
   "outputs": [
    {
     "name": "stdout",
     "output_type": "stream",
     "text": [
      "Weight matrix A is  [[ 4.02936706e+01 -1.19997513e-01  5.70003304e-02  3.98379660e-03\n",
      "   4.12698187e+00 -2.05002963e+01  3.38024903e+00  7.56807584e-03\n",
      "  -1.71189793e+00  3.34747537e-01 -1.17797225e-02 -9.02318039e-01\n",
      "   8.71912756e-03 -5.55842510e-01]]\n"
     ]
    }
   ],
   "source": [
    "print(\"Weight matrix A is \", a.T)"
   ]
  },
  {
   "cell_type": "markdown",
   "metadata": {},
   "source": [
    "**GRADIENT DESCENT.**"
   ]
  },
  {
   "cell_type": "code",
   "execution_count": 22,
   "metadata": {},
   "outputs": [],
   "source": [
    "# solving using Gradient Descent\n",
    "\n",
    "def Cost(X,error):\n",
    "    '''returns cost function J\n",
    "       at a particular iteration'''\n",
    "    m=X.shape[0]\n",
    "    sqrErrors = np.square(error)\n",
    "    J =1/(2*m) * np.sum(sqrErrors)\n",
    "    return J\n",
    "\n",
    "\n",
    "def Gradient_Descent(X,y,iterations=1000,learning_rate=0.1):\n",
    "    '''Function to perform\n",
    "       gradient descent'''\n",
    "    A = np.zeros((X.shape[1],1))\n",
    "    J_vals =np.zeros((iterations, 1))\n",
    "    m=X.shape[0]\n",
    "    for i in range(0,iterations):\n",
    "        error = np.matmul(X , A) - y\n",
    "        J_vals[i]=Cost(X,error)\n",
    "        #print(X.shape,A.shape,y.shape,error.shape)\n",
    "        A = A - learning_rate * 1/m * np.dot(X.T , error)\n",
    "        #print(np.dot(X.T , error).shape)\n",
    "        #print(X.shape,error.shape)\n",
    "        \n",
    "    return A, J_vals "
   ]
  },
  {
   "cell_type": "code",
   "execution_count": 23,
   "metadata": {},
   "outputs": [
    {
     "data": {
      "image/png": "[encoded data removed]",
      "text/plain": [
       "<Figure size 432x288 with 1 Axes>"
      ]
     },
     "metadata": {
      "needs_background": "light"
     },
     "output_type": "display_data"
    }
   ],
   "source": [
    "\n",
    "# Normalizing the input features\n",
    "#X = (train_data-train_data.mean())/train_data.std()\n",
    "mean = H.mean()\n",
    "std = H.std()\n",
    "H = (H-mean)/std\n",
    "A,J_vals=Gradient_Descent(H,y,50,0.05)\n",
    "#J_vals.min()\n",
    "import matplotlib.pyplot as plt\n",
    "plt.plot(J_vals)\n",
    "plt.title(\"Loss Funstion vs iterations\")\n",
    "plt.xlabel(\"# iterations\")\n",
    "plt.ylabel(\"Loss\")\n",
    "plt.show()"
   ]
  },
  {
   "cell_type": "code",
   "execution_count": 24,
   "metadata": {},
   "outputs": [
    {
     "data": {
      "text/plain": [
       "(14, 1)"
      ]
     },
     "execution_count": 24,
     "metadata": {},
     "output_type": "execute_result"
    }
   ],
   "source": [
    "# observation - Value of cost function J converges as we iterate over\n",
    "A.shape"
   ]
  },
  {
   "cell_type": "code",
   "execution_count": 25,
   "metadata": {},
   "outputs": [
    {
     "name": "stdout",
     "output_type": "stream",
     "text": [
      "(102, 1) (102, 1)\n"
     ]
    }
   ],
   "source": [
    "test = (test - mean)/std\n",
    "test_Set_predictions = np.matmul(test, A)\n",
    "print(test_Set_predictions.shape,test_targets.shape)"
   ]
  },
  {
   "cell_type": "code",
   "execution_count": 26,
   "metadata": {},
   "outputs": [
    {
     "name": "stdout",
     "output_type": "stream",
     "text": [
      "5712132.393002191\n"
     ]
    }
   ],
   "source": [
    "# Mean squared Error on actual values and predicted values using gradient descent\n",
    "print(np.mean((test_Set_predictions-test_targets)**2))"
   ]
  },
  {
   "cell_type": "code",
   "execution_count": 34,
   "metadata": {},
   "outputs": [
    {
     "data": {
      "text/plain": [
       "(14, 1)"
      ]
     },
     "execution_count": 34,
     "metadata": {},
     "output_type": "execute_result"
    }
   ],
   "source": [
    "A.shape"
   ]
  },
  {
   "cell_type": "code",
   "execution_count": 35,
   "metadata": {},
   "outputs": [
    {
     "name": "stdout",
     "output_type": "stream",
     "text": [
      "[[-1.74790396 -2.06087609 -0.17493785 -1.89438026 -1.76729038 -1.76618558\n",
      "  -1.52876906 -1.18141683 -1.61546524 -1.88661469 -0.08357653 -1.43531897\n",
      "   7.06796303 -2.15015777]]\n"
     ]
    }
   ],
   "source": [
    "print(A.T)"
   ]
  },
  {
   "cell_type": "markdown",
   "metadata": {},
   "source": [
    "**From this Matrix A.T we can predict prices of houses, using its attributes.**"
   ]
  }
 ],
 "metadata": {
  "kernelspec": {
   "display_name": "Python 3",
   "language": "python",
   "name": "python3"
  },
  "language_info": {
   "codemirror_mode": {
    "name": "ipython",
    "version": 3
   },
   "file_extension": ".py",
   "mimetype": "text/x-python",
   "name": "python",
   "nbconvert_exporter": "python",
   "pygments_lexer": "ipython3",
   "version": "3.8.3"
  }
 },
 "nbformat": 4,
 "nbformat_minor": 5
}
